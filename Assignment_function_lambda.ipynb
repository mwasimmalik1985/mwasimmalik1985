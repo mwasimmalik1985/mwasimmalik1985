{
  "nbformat": 4,
  "nbformat_minor": 0,
  "metadata": {
    "colab": {
      "provenance": [],
      "authorship_tag": "ABX9TyNb7k6sQHF268Qudl2u3fXg",
      "include_colab_link": true
    },
    "kernelspec": {
      "name": "python3",
      "display_name": "Python 3"
    },
    "language_info": {
      "name": "python"
    }
  },
  "cells": [
    {
      "cell_type": "markdown",
      "metadata": {
        "id": "view-in-github",
        "colab_type": "text"
      },
      "source": [
        "<a href=\"https://colab.research.google.com/github/mwasimmalik1985/mwasimmalik1985/blob/main/Assignment_function_lambda.ipynb\" target=\"_parent\"><img src=\"https://colab.research.google.com/assets/colab-badge.svg\" alt=\"Open In Colab\"/></a>"
      ]
    },
    {
      "cell_type": "code",
      "source": [
        "#1. Write a Python function that takes a list of numbers as input and returns the sum of all even numbers in\n",
        "#the list.\n",
        "def sum_even_numbers(numbers):\n",
        "    return sum(num for num in numbers if num % 2 == 0)"
      ],
      "metadata": {
        "id": "3Rf2kEVWzDcp"
      },
      "execution_count": 4,
      "outputs": []
    },
    {
      "cell_type": "code",
      "source": [
        "list=[10,11,12,13,14,15,16,17,18,19,20]\n",
        "result = sum_even_numbers(list)\n",
        "print(\"sum_even_numbers:\",result)"
      ],
      "metadata": {
        "colab": {
          "base_uri": "https://localhost:8080/"
        },
        "id": "h9xk48vXzWs7",
        "outputId": "3de4aad0-fa2f-4874-e427-414221b0d7c2"
      },
      "execution_count": 5,
      "outputs": [
        {
          "output_type": "stream",
          "name": "stdout",
          "text": [
            "sum_even_numbers: 90\n"
          ]
        }
      ]
    },
    {
      "cell_type": "code",
      "source": [
        "# 2. Create a Python function that accepts a string and returns the reverse of that string.\n",
        "\n",
        "def reverse_string(s):\n",
        "  return s[::-1]"
      ],
      "metadata": {
        "id": "90OWN6jqzl8q"
      },
      "execution_count": 8,
      "outputs": []
    },
    {
      "cell_type": "code",
      "source": [
        "s2 = \"wasim\"\n",
        "reversed_text = reverse_string(s2)\n",
        "print(reversed_text)"
      ],
      "metadata": {
        "colab": {
          "base_uri": "https://localhost:8080/"
        },
        "id": "m5VDEdUR0Nvy",
        "outputId": "bf1f696a-60a5-4b43-e54a-dee7e3f24c14"
      },
      "execution_count": 7,
      "outputs": [
        {
          "output_type": "stream",
          "name": "stdout",
          "text": [
            "misaw\n"
          ]
        }
      ]
    },
    {
      "cell_type": "code",
      "source": [
        "#3. Implement a Python function that takes a list of integers and returns a new list containing the squares of\n",
        "#each number.\n",
        "def square_no(numbers):\n",
        "  return[i **2 for i in numbers]"
      ],
      "metadata": {
        "id": "qCJdr_CP0bbI"
      },
      "execution_count": 9,
      "outputs": []
    },
    {
      "cell_type": "code",
      "source": [
        "list2 = [2,4,7,8,9,10,11]\n",
        "squared_list = square_no(list2)\n",
        "print(squared_list)"
      ],
      "metadata": {
        "colab": {
          "base_uri": "https://localhost:8080/"
        },
        "id": "L5H0_OgA1Ix_",
        "outputId": "ddc6a070-fdcf-46ce-a568-113c35b4fef4"
      },
      "execution_count": 10,
      "outputs": [
        {
          "output_type": "stream",
          "name": "stdout",
          "text": [
            "[4, 16, 49, 64, 81, 100, 121]\n"
          ]
        }
      ]
    },
    {
      "cell_type": "code",
      "source": [
        "#4. Write a Python function that checks if a given number is prime or not from 1 to 200\n",
        "def is_prime(n):\n",
        "    if n < 2 or n > 200:\n",
        "        return False\n",
        "    for i in range(2, n):\n",
        "        if n % i == 0:\n",
        "            return False\n",
        "    return True\n"
      ],
      "metadata": {
        "id": "snMUSI341W54"
      },
      "execution_count": 11,
      "outputs": []
    },
    {
      "cell_type": "code",
      "source": [
        "print(is_prime(6))\n",
        "print(is_prime(51))"
      ],
      "metadata": {
        "colab": {
          "base_uri": "https://localhost:8080/"
        },
        "id": "c8e89SQL3Xiu",
        "outputId": "a0a98b5c-0f73-4b02-eaa5-1cac6fa82aa9"
      },
      "execution_count": 18,
      "outputs": [
        {
          "output_type": "stream",
          "name": "stdout",
          "text": [
            "False\n",
            "False\n"
          ]
        }
      ]
    },
    {
      "cell_type": "code",
      "source": [
        "print(is_prime(5))\n",
        "print(is_prime(199))"
      ],
      "metadata": {
        "colab": {
          "base_uri": "https://localhost:8080/"
        },
        "id": "bMhuA8Fw3gno",
        "outputId": "88e2070b-9248-4438-d416-7922cf15d879"
      },
      "execution_count": 17,
      "outputs": [
        {
          "output_type": "stream",
          "name": "stdout",
          "text": [
            "True\n",
            "True\n"
          ]
        }
      ]
    },
    {
      "cell_type": "code",
      "source": [
        "#5. Create an iterator class in Python that generates the Fibonacci sequence up to a specified number of\n",
        "#terms.\n",
        "def fibonacci(n):\n",
        "    a, b = 0, 1\n",
        "    for i in range(n):\n",
        "        print(a, end=\" \")\n",
        "        a, b = b, a + b\n"
      ],
      "metadata": {
        "id": "FWjdjUko3mLH"
      },
      "execution_count": 22,
      "outputs": []
    },
    {
      "cell_type": "code",
      "source": [
        "fibonacci(10)"
      ],
      "metadata": {
        "colab": {
          "base_uri": "https://localhost:8080/"
        },
        "id": "XaphMhPy5Tcv",
        "outputId": "2736da37-47ea-4837-8c0e-cac0249edc7c"
      },
      "execution_count": 23,
      "outputs": [
        {
          "output_type": "stream",
          "name": "stdout",
          "text": [
            "0 1 1 2 3 5 8 13 21 34 "
          ]
        }
      ]
    },
    {
      "cell_type": "code",
      "source": [
        "# 6. Write a generator function in Python that yields the powers of 2 up to a given exponent.\n",
        "def power_of_two(n):\n",
        "    for i in range(n):\n",
        "        yield 2 ** i"
      ],
      "metadata": {
        "id": "OuP51QQM6IY2"
      },
      "execution_count": 24,
      "outputs": []
    },
    {
      "cell_type": "code",
      "source": [
        "power_of_two(5)"
      ],
      "metadata": {
        "colab": {
          "base_uri": "https://localhost:8080/"
        },
        "id": "jK9wLVOt9tsH",
        "outputId": "f9771f65-134d-4b7e-c74d-0fafaab7df49"
      },
      "execution_count": 25,
      "outputs": [
        {
          "output_type": "execute_result",
          "data": {
            "text/plain": [
              "<generator object power_of_two at 0x7cfa93c51700>"
            ]
          },
          "metadata": {},
          "execution_count": 25
        }
      ]
    },
    {
      "cell_type": "code",
      "source": [
        "print(power_of_two(5))"
      ],
      "metadata": {
        "colab": {
          "base_uri": "https://localhost:8080/"
        },
        "id": "LV-Y6Auf9w7l",
        "outputId": "0657faf1-80ed-4fb9-ce8b-ba1479a82fff"
      },
      "execution_count": 26,
      "outputs": [
        {
          "output_type": "stream",
          "name": "stdout",
          "text": [
            "<generator object power_of_two at 0x7cfa93c513c0>\n"
          ]
        }
      ]
    },
    {
      "cell_type": "code",
      "source": [
        "for p in power_of_two(5):\n",
        "  print(p,end=\" \")"
      ],
      "metadata": {
        "colab": {
          "base_uri": "https://localhost:8080/"
        },
        "id": "VWm-Z-x39219",
        "outputId": "dac5c470-b3be-4425-bdb4-6936aa03a817"
      },
      "execution_count": 27,
      "outputs": [
        {
          "output_type": "stream",
          "name": "stdout",
          "text": [
            "1 2 4 8 16 "
          ]
        }
      ]
    },
    {
      "cell_type": "code",
      "source": [
        "# 7. Implement a generator function that reads a file line by line and yields each line as a string.\n",
        "def read_file(filename):\n",
        "    with open(filename, 'r') as file:\n",
        "        for line in file:\n",
        "            yield line.strip()"
      ],
      "metadata": {
        "id": "_e6dnPi6-OMq"
      },
      "execution_count": 1,
      "outputs": []
    },
    {
      "cell_type": "code",
      "source": [
        "filename = 'wasim.txt'\n",
        "for line in read_file(filename):\n",
        "    print(line.strip())"
      ],
      "metadata": {
        "id": "btO262ET5_ah"
      },
      "execution_count": 3,
      "outputs": []
    },
    {
      "cell_type": "code",
      "source": [
        "#8. Use a lambda function in Python to sort a list of tuples based on the second element of each tuple\n",
        "tuple4 = [('wasim',9),('malek',8),('DA',7)]\n",
        "sorted_list = sorted(tuple4, key=lambda x: x[1])\n",
        "print(sorted_list)"
      ],
      "metadata": {
        "colab": {
          "base_uri": "https://localhost:8080/"
        },
        "id": "meOo4fPz6LAX",
        "outputId": "422496f5-945e-41ca-951b-d7215030e6ef"
      },
      "execution_count": 5,
      "outputs": [
        {
          "output_type": "stream",
          "name": "stdout",
          "text": [
            "[('DA', 7), ('malek', 8), ('wasim', 9)]\n"
          ]
        }
      ]
    },
    {
      "cell_type": "code",
      "source": [
        "# 9. Write a Python program that uses `map()` to convert a list of temperatures from Celsius to Fahrenheit\n",
        "celsius_temp = [0, 40, 50, 90]\n",
        "fahrenheit_temp = list(map(lambda x: (x * 9/5) + 32, celsius_temp))\n",
        "print(fahrenheit_temp)\n"
      ],
      "metadata": {
        "colab": {
          "base_uri": "https://localhost:8080/"
        },
        "id": "lBHn2eG07gpX",
        "outputId": "253c77e2-1095-4316-83e8-002c74b02eed"
      },
      "execution_count": 6,
      "outputs": [
        {
          "output_type": "stream",
          "name": "stdout",
          "text": [
            "[32.0, 104.0, 122.0, 194.0]\n"
          ]
        }
      ]
    },
    {
      "cell_type": "code",
      "source": [
        "#10. Create a Python program that uses `filter()` to remove all the vowels from a given string\n",
        "def remove_vowels(string):\n",
        "    vowels = 'aeiouAEIOU'\n",
        "    return ''.join(filter(lambda x: x not in vowels, string))"
      ],
      "metadata": {
        "id": "XHobGjKe8kZH"
      },
      "execution_count": 8,
      "outputs": []
    },
    {
      "cell_type": "code",
      "source": [
        "remove_vowels(\"wasim malek\")"
      ],
      "metadata": {
        "colab": {
          "base_uri": "https://localhost:8080/",
          "height": 36
        },
        "id": "Utg3OfPx9lYV",
        "outputId": "e2a2b816-48a1-4f9b-9a4f-b7f876827713"
      },
      "execution_count": 9,
      "outputs": [
        {
          "output_type": "execute_result",
          "data": {
            "text/plain": [
              "'wsm mlk'"
            ],
            "application/vnd.google.colaboratory.intrinsic+json": {
              "type": "string"
            }
          },
          "metadata": {},
          "execution_count": 9
        }
      ]
    },
    {
      "cell_type": "code",
      "source": [
        "# 11) Imagine an accounting routine used in a book shop. It works on a list with sublists, which look like this:\n",
        "#Order number             Book Title and Author                        Quantity       Price per item\n",
        "#34587                   Learning pyton, Mark Lutz                       4                 40.95\n",
        "#98762                   Programming Python, Mark Lutz                   5                 56.80\n",
        "#77226                   Head First Pyhton, Paul Barry                   3                 32.95\n",
        "#88112                   Einfuhrung in Python3, Bernd Klein              3                 24.99\n",
        " #Write a Python program, which returns a list with 2-tuples. Each tuple consists of the order number and the\n",
        "#product of the price per item and the quantity. The product should be increased by 10,- € if the value of the\n",
        "#order is smaller than 100,00 €.\n",
        " #Write a Python program using lambda and map\n",
        "\n",
        " # List of orders, each represented as a tuple:\n",
        "# (Order Number, Book Title and Author, Quantity, Price per Item)\n",
        "orders = [\n",
        "    (34587, \"Learning Python, Mark Lutz\", 4, 40.95),\n",
        "    (98762, \"Programming Python, Mark Lutz\", 5, 56.80),\n",
        "    (77226, \"Head First Python, Paul Barry\", 3, 32.95),\n",
        "    (88112, \"Einführung in Python3, Bernd Klein\", 3, 24.99)\n",
        "]\n",
        "\n",
        "calculate_total = lambda order: (\n",
        "    order[0],\n",
        "    order[2] * order[3] + (10 if order[2] * order[3] < 100 else 0)\n",
        ")\n",
        "\n",
        "order_totals = list(map(calculate_total, orders))\n",
        "for order_num, total in order_totals:\n",
        "    print(f\"Order Number: {order_num}, Total Price: €{total:.2f}\")\n",
        "\n"
      ],
      "metadata": {
        "colab": {
          "base_uri": "https://localhost:8080/"
        },
        "id": "MY5AV0Xl9_g0",
        "outputId": "87c55edc-dfec-4447-ddc0-4b4ef78979bc"
      },
      "execution_count": 21,
      "outputs": [
        {
          "output_type": "stream",
          "name": "stdout",
          "text": [
            "Order Number: 34587, Total Price: €163.80\n",
            "Order Number: 98762, Total Price: €284.00\n",
            "Order Number: 77226, Total Price: €108.85\n",
            "Order Number: 88112, Total Price: €84.97\n"
          ]
        }
      ]
    },
    {
      "cell_type": "code",
      "source": [],
      "metadata": {
        "id": "JIOBxX1mBdyI"
      },
      "execution_count": null,
      "outputs": []
    }
  ]
}